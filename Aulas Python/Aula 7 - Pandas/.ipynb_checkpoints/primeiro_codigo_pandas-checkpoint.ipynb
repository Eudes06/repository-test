{
 "cells": [
  {
   "cell_type": "code",
   "execution_count": 1,
   "id": "cd7f69ec-2d8d-442e-a2f0-26ce96cfb16c",
   "metadata": {},
   "outputs": [],
   "source": [
    "import pandas as pd"
   ]
  },
  {
   "cell_type": "markdown",
   "id": "b324ec3b-ac7b-49d9-94cb-35e76a4c3a60",
   "metadata": {},
   "source": [
    "## Lendo Arquivos"
   ]
  },
  {
   "cell_type": "code",
   "execution_count": 12,
   "id": "961ce2b7-dda4-49a7-a592-a772a9d8b435",
   "metadata": {},
   "outputs": [],
   "source": [
    "diretorio = '../bases'"
   ]
  },
  {
   "cell_type": "code",
   "execution_count": 15,
   "id": "dc241cf6-0f61-4083-9ce8-36200f208bbb",
   "metadata": {},
   "outputs": [],
   "source": [
    "#lendo arquivo csv\n",
    "\n",
    "df_vendas = pd.read_csv(f'{diretorio}/vendas.csv', sep = \";\")"
   ]
  },
  {
   "cell_type": "code",
   "execution_count": 24,
   "id": "bd46b6cb-ee20-4468-83d0-c101f40463da",
   "metadata": {},
   "outputs": [],
   "source": [
    "#pd.read_excel(f'{diretorio}/aconchego.xlsx', sheet_name = 'Resultado', skiprows = 1)\n",
    "\n",
    "df_aconchego = pd.read_excel(f'{diretorio}/aconchego.xlsx', sheet_name = 'Base de dados')"
   ]
  },
  {
   "cell_type": "code",
   "execution_count": 26,
   "id": "f315657e-3df8-49aa-b9f9-020f07d5bdb6",
   "metadata": {},
   "outputs": [],
   "source": [
    "df_aconchego_csv = pd.read_csv(f'{diretorio}/aconchego.csv')"
   ]
  },
  {
   "cell_type": "markdown",
   "id": "00785494-8bc0-4efb-a227-763a7560fba7",
   "metadata": {},
   "source": [
    "## Criando DataFrames"
   ]
  },
  {
   "cell_type": "code",
   "execution_count": null,
   "id": "6fd7b435-bed1-412a-8825-84dad3bcc9e5",
   "metadata": {},
   "outputs": [],
   "source": [
    "#jeito errado\n",
    "pd.DataFrame(['Larissa','Eudes','Jorge','Rebeka'], columns = ['aluno1', 'aluno1', 'aluno1', 'aluno1'])"
   ]
  },
  {
   "cell_type": "code",
   "execution_count": 38,
   "id": "25399e20-b353-4f4e-9756-5178988e57d0",
   "metadata": {},
   "outputs": [
    {
     "data": {
      "text/html": [
       "<div>\n",
       "<style scoped>\n",
       "    .dataframe tbody tr th:only-of-type {\n",
       "        vertical-align: middle;\n",
       "    }\n",
       "\n",
       "    .dataframe tbody tr th {\n",
       "        vertical-align: top;\n",
       "    }\n",
       "\n",
       "    .dataframe thead th {\n",
       "        text-align: right;\n",
       "    }\n",
       "</style>\n",
       "<table border=\"1\" class=\"dataframe\">\n",
       "  <thead>\n",
       "    <tr style=\"text-align: right;\">\n",
       "      <th></th>\n",
       "      <th>alunos</th>\n",
       "    </tr>\n",
       "  </thead>\n",
       "  <tbody>\n",
       "    <tr>\n",
       "      <th>0</th>\n",
       "      <td>Eudes</td>\n",
       "    </tr>\n",
       "    <tr>\n",
       "      <th>1</th>\n",
       "      <td>Rebeka</td>\n",
       "    </tr>\n",
       "    <tr>\n",
       "      <th>2</th>\n",
       "      <td>Jorge</td>\n",
       "    </tr>\n",
       "    <tr>\n",
       "      <th>3</th>\n",
       "      <td>Larissa</td>\n",
       "    </tr>\n",
       "  </tbody>\n",
       "</table>\n",
       "</div>"
      ],
      "text/plain": [
       "    alunos\n",
       "0    Eudes\n",
       "1   Rebeka\n",
       "2    Jorge\n",
       "3  Larissa"
      ]
     },
     "execution_count": 38,
     "metadata": {},
     "output_type": "execute_result"
    }
   ],
   "source": [
    "#jeito certo\n",
    "pd.DataFrame({'Larissa',\n",
    "              'Eudes',\n",
    "              'Jorge',\n",
    "              'Rebeka'}, columns = ['alunos'])"
   ]
  },
  {
   "cell_type": "code",
   "execution_count": 35,
   "id": "3dc1b045-5876-415a-82d7-fc6e119b5348",
   "metadata": {},
   "outputs": [],
   "source": [
    "#Criar dicionário cuja chave seja o nome da coluna e o dado seja uma lista com a série de dados desta coluna\n",
    "dic_alunos = {'Aluno':['Larissa','Eudes','Jorge','Rebeka'],\n",
    "              'Sobrenome':['Peres','Filho','Filho','Fernandes']}"
   ]
  },
  {
   "cell_type": "code",
   "execution_count": 36,
   "id": "967dd8b0-304a-47ad-994d-08f655f06ce9",
   "metadata": {},
   "outputs": [
    {
     "data": {
      "text/html": [
       "<div>\n",
       "<style scoped>\n",
       "    .dataframe tbody tr th:only-of-type {\n",
       "        vertical-align: middle;\n",
       "    }\n",
       "\n",
       "    .dataframe tbody tr th {\n",
       "        vertical-align: top;\n",
       "    }\n",
       "\n",
       "    .dataframe thead th {\n",
       "        text-align: right;\n",
       "    }\n",
       "</style>\n",
       "<table border=\"1\" class=\"dataframe\">\n",
       "  <thead>\n",
       "    <tr style=\"text-align: right;\">\n",
       "      <th></th>\n",
       "      <th>Aluno</th>\n",
       "      <th>Sobrenome</th>\n",
       "    </tr>\n",
       "  </thead>\n",
       "  <tbody>\n",
       "    <tr>\n",
       "      <th>0</th>\n",
       "      <td>Larissa</td>\n",
       "      <td>Peres</td>\n",
       "    </tr>\n",
       "    <tr>\n",
       "      <th>1</th>\n",
       "      <td>Eudes</td>\n",
       "      <td>Filho</td>\n",
       "    </tr>\n",
       "    <tr>\n",
       "      <th>2</th>\n",
       "      <td>Jorge</td>\n",
       "      <td>Filho</td>\n",
       "    </tr>\n",
       "    <tr>\n",
       "      <th>3</th>\n",
       "      <td>Rebeka</td>\n",
       "      <td>Fernandes</td>\n",
       "    </tr>\n",
       "  </tbody>\n",
       "</table>\n",
       "</div>"
      ],
      "text/plain": [
       "     Aluno  Sobrenome\n",
       "0  Larissa      Peres\n",
       "1    Eudes      Filho\n",
       "2    Jorge      Filho\n",
       "3   Rebeka  Fernandes"
      ]
     },
     "execution_count": 36,
     "metadata": {},
     "output_type": "execute_result"
    }
   ],
   "source": [
    "pd.DataFrame(data = dic_alunos)"
   ]
  },
  {
   "cell_type": "markdown",
   "id": "eb80606a-60f3-4112-9a95-d025c83e4268",
   "metadata": {},
   "source": [
    "## Lendo informações sobre o DF"
   ]
  },
  {
   "cell_type": "code",
   "execution_count": 42,
   "id": "37e4852a-99fe-4784-8a78-42bd8c9cf7bb",
   "metadata": {},
   "outputs": [
    {
     "data": {
      "text/plain": [
       "(229, 7)"
      ]
     },
     "execution_count": 42,
     "metadata": {},
     "output_type": "execute_result"
    }
   ],
   "source": [
    "df_aconchego.shape"
   ]
  },
  {
   "cell_type": "code",
   "execution_count": 44,
   "id": "2e24387c-7367-4989-bd85-410d1cf6b746",
   "metadata": {},
   "outputs": [
    {
     "data": {
      "text/plain": [
       "<bound method NDFrame.describe of           DATA            MOVIMENTAÇÃO Histórico  CRÉDITO  DÉBITO  ORIGEM  \\\n",
       "0   2022-05-02  DÉBITO PACOTE SERVIÇOS       NaN      NaN    50.0  SICOOB   \n",
       "1   2022-05-02         TARIFA COBRANÇA       NaN      NaN    16.5  SICOOB   \n",
       "2   2022-05-03         TARIFA COBRANÇA       NaN      NaN    27.0  SICOOB   \n",
       "3   2022-05-04         TARIFA COBRANÇA       NaN      NaN    13.5  SICOOB   \n",
       "4   2022-05-05         TARIFA COBRANÇA       NaN      NaN    69.0  SICOOB   \n",
       "..         ...                     ...       ...      ...     ...     ...   \n",
       "224        NaT                     NaN       NaN      NaN     NaN  SICOOB   \n",
       "225        NaT                     NaN       NaN      NaN     NaN  SICOOB   \n",
       "226        NaT                     NaN       NaN      NaN     NaN  SICOOB   \n",
       "227        NaT                     NaN       NaN      NaN     NaN  SICOOB   \n",
       "228        NaT                     NaN       NaN      NaN     NaN  SICOOB   \n",
       "\n",
       "     CONTA  \n",
       "0      9.1  \n",
       "1      9.1  \n",
       "2      9.1  \n",
       "3      9.1  \n",
       "4      9.1  \n",
       "..     ...  \n",
       "224    NaN  \n",
       "225    NaN  \n",
       "226    NaN  \n",
       "227    NaN  \n",
       "228    NaN  \n",
       "\n",
       "[229 rows x 7 columns]>"
      ]
     },
     "execution_count": 44,
     "metadata": {},
     "output_type": "execute_result"
    }
   ],
   "source": [
    "df_aconchego.describe"
   ]
  },
  {
   "cell_type": "code",
   "execution_count": 108,
   "id": "0d15021d-641c-4883-88a3-86481fc27f43",
   "metadata": {},
   "outputs": [
    {
     "data": {
      "text/plain": [
       "DATA            datetime64[ns]\n",
       "MOVIMENTAÇÃO            object\n",
       "Histórico               object\n",
       "CRÉDITO                float64\n",
       "DÉBITO                 float64\n",
       "ORIGEM                  object\n",
       "CONTA                  float64\n",
       "dtype: object"
      ]
     },
     "execution_count": 108,
     "metadata": {},
     "output_type": "execute_result"
    }
   ],
   "source": [
    "df_aconchego.dtypes"
   ]
  },
  {
   "cell_type": "code",
   "execution_count": 45,
   "id": "37942bc3-ca82-41fd-9884-594013ddf5eb",
   "metadata": {},
   "outputs": [
    {
     "data": {
      "text/plain": [
       "Index(['DATA', 'MOVIMENTAÇÃO', 'Histórico', 'CRÉDITO', 'DÉBITO', 'ORIGEM',\n",
       "       'CONTA'],\n",
       "      dtype='object')"
      ]
     },
     "execution_count": 45,
     "metadata": {},
     "output_type": "execute_result"
    }
   ],
   "source": [
    "df_aconchego.columns"
   ]
  },
  {
   "cell_type": "code",
   "execution_count": 54,
   "id": "7e41d57d-31f4-495d-b1cc-9cb65e465a91",
   "metadata": {},
   "outputs": [
    {
     "name": "stderr",
     "output_type": "stream",
     "text": [
      "C:\\Users\\16103\\AppData\\Local\\Temp/ipykernel_5896/3247991905.py:2: FutureWarning: The default value of regex will change from True to False in a future version. In addition, single character regular expressions will *not* be treated as literal strings when regex=True.\n",
      "  df_vendas['Valor parcela liquido'] = df_vendas['Valor parcela liquido'].str.replace('.','')\n"
     ]
    }
   ],
   "source": [
    "#casting \n",
    "df_vendas['Valor parcela liquido'] = df_vendas['Valor parcela liquido'].str.replace('.','')"
   ]
  },
  {
   "cell_type": "code",
   "execution_count": 56,
   "id": "8979cea5-fdb1-4ab4-91b7-c91db1c0a4ef",
   "metadata": {},
   "outputs": [],
   "source": [
    "df_vendas['Valor parcela liquido'] = df_vendas['Valor parcela liquido'].str.replace(',','.')"
   ]
  },
  {
   "cell_type": "code",
   "execution_count": 58,
   "id": "30f6a69f-aba2-4df0-a55f-3a6ca2726a83",
   "metadata": {},
   "outputs": [],
   "source": [
    "df_vendas['Valor parcela liquido'] = df_vendas['Valor parcela liquido'].astype(float)"
   ]
  },
  {
   "cell_type": "code",
   "execution_count": 70,
   "id": "9cc657d5-d359-4e9b-a21b-b16a752c6cc9",
   "metadata": {},
   "outputs": [
    {
     "data": {
      "text/plain": [
       "160.54"
      ]
     },
     "execution_count": 70,
     "metadata": {},
     "output_type": "execute_result"
    }
   ],
   "source": [
    "df_vendas['Valor parcela liquido'].median()"
   ]
  },
  {
   "cell_type": "code",
   "execution_count": 77,
   "id": "7c5247ec-661c-4a84-8446-0378b24ef6bc",
   "metadata": {},
   "outputs": [
    {
     "data": {
      "text/plain": [
       "'01/04/2022 08:1408/04/2022 14:1712/04/2022 18:1825/04/2022 08:2127/04/2022 09:1028/04/2022 18:1130/04/2022 11:4830/04/2022 11:4930/04/2022 11:4930/04/2022 11:4930/04/2022 11:4930/04/2022 11:4930/04/2022 11:4930/04/2022 11:4930/04/2022 11:49'"
      ]
     },
     "execution_count": 77,
     "metadata": {},
     "output_type": "execute_result"
    }
   ],
   "source": [
    "df_vendas['Data da transação'].sum()"
   ]
  },
  {
   "cell_type": "code",
   "execution_count": null,
   "id": "080a6205-27fb-455b-9deb-1293d134bef1",
   "metadata": {},
   "outputs": [],
   "source": [
    "#shape, describe"
   ]
  },
  {
   "cell_type": "code",
   "execution_count": null,
   "id": "d275f709-bd1c-4892-bded-31e638f214da",
   "metadata": {},
   "outputs": [],
   "source": [
    "#columns"
   ]
  },
  {
   "cell_type": "code",
   "execution_count": null,
   "id": "cea5d4b0-e8e5-4126-8c45-84af2be2101c",
   "metadata": {},
   "outputs": [],
   "source": [
    "#count, sum, unique, nunique, min, max,mean, median"
   ]
  },
  {
   "cell_type": "markdown",
   "id": "e56d2b54-af31-4683-b6b9-890b7214d465",
   "metadata": {},
   "source": [
    "## Criando novas colunas"
   ]
  },
  {
   "cell_type": "code",
   "execution_count": 82,
   "id": "7d6405c8-843e-42de-81a8-ec97463a55cf",
   "metadata": {},
   "outputs": [],
   "source": [
    "#nome do dataframe + ['nome da coluna'] = cálculo da coluna\n",
    "df_vendas['Valor parcela + 200 reais'] = df_vendas['Valor parcela liquido'] + 200"
   ]
  },
  {
   "cell_type": "markdown",
   "id": "24f24a8e-7712-4294-992d-6413f7b3e8e8",
   "metadata": {},
   "source": [
    "## Excluindo colunas"
   ]
  },
  {
   "cell_type": "code",
   "execution_count": 90,
   "id": "4d0132e0-a0bb-4281-8a57-9bce0d1fac1e",
   "metadata": {},
   "outputs": [],
   "source": [
    "#nome do dataframe .drop(axis = 0, columns = ) axis = 0 para colunas e axis = 1 para linhas\n",
    "df_vendas = df_vendas.drop(axis = 0, columns = 'Produto')"
   ]
  },
  {
   "cell_type": "code",
   "execution_count": 98,
   "id": "b59585ae-8049-4476-8703-93be1ff79a4b",
   "metadata": {},
   "outputs": [],
   "source": [
    "ls_cols_invalidas = list(df_vendas.columns[:5])"
   ]
  },
  {
   "cell_type": "code",
   "execution_count": 101,
   "id": "0a9c8068-961c-4ffd-808b-57a28499af14",
   "metadata": {},
   "outputs": [],
   "source": [
    "df_vendas = df_vendas.drop(axis = 0, columns = ls_cols_invalidas)"
   ]
  },
  {
   "cell_type": "code",
   "execution_count": 104,
   "id": "3b612573-a998-46b1-a91c-417e055b1305",
   "metadata": {},
   "outputs": [],
   "source": [
    "df_vendas = df_vendas.drop(axis = 0, columns = ['Seu número', 'Nº ordem de pagamento','Domicílio bancário'])"
   ]
  },
  {
   "cell_type": "code",
   "execution_count": null,
   "id": "1fab0caa-c5ba-48d3-ae6d-f7e75c1a9378",
   "metadata": {},
   "outputs": [],
   "source": []
  },
  {
   "cell_type": "markdown",
   "id": "fccbae2a-0f9d-47bb-a9db-4dca98e08a6a",
   "metadata": {},
   "source": [
    "## Ordenar valores"
   ]
  },
  {
   "cell_type": "code",
   "execution_count": 112,
   "id": "e0642cbb-785b-4179-8788-124bf38cd0d9",
   "metadata": {},
   "outputs": [
    {
     "data": {
      "text/plain": [
       "172   2022-05-17\n",
       "140   2022-05-17\n",
       "65    2022-05-17\n",
       "92    2022-05-17\n",
       "64    2022-05-17\n",
       "         ...    \n",
       "224          NaT\n",
       "225          NaT\n",
       "226          NaT\n",
       "227          NaT\n",
       "228          NaT\n",
       "Name: DATA, Length: 229, dtype: datetime64[ns]"
      ]
     },
     "execution_count": 112,
     "metadata": {},
     "output_type": "execute_result"
    }
   ],
   "source": [
    "df_aconchego.DATA.sort_values(ascending = False)"
   ]
  },
  {
   "cell_type": "code",
   "execution_count": null,
   "id": "bd49fee2-1e04-4e09-8803-659d7b4b3b97",
   "metadata": {},
   "outputs": [],
   "source": []
  }
 ],
 "metadata": {
  "kernelspec": {
   "display_name": "Python 3",
   "language": "python",
   "name": "python3"
  },
  "language_info": {
   "codemirror_mode": {
    "name": "ipython",
    "version": 3
   },
   "file_extension": ".py",
   "mimetype": "text/x-python",
   "name": "python",
   "nbconvert_exporter": "python",
   "pygments_lexer": "ipython3",
   "version": "3.8.8"
  }
 },
 "nbformat": 4,
 "nbformat_minor": 5
}
