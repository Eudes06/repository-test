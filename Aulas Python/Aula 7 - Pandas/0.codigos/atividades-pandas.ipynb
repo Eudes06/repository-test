{
 "cells": [
  {
   "cell_type": "code",
   "execution_count": 9,
   "id": "2a4f8ebd-7042-45a5-808e-8cd1042c3b81",
   "metadata": {},
   "outputs": [],
   "source": [
    "import pandas as pd\n",
    "import numpy as np"
   ]
  },
  {
   "cell_type": "markdown",
   "id": "19b818ed-52f0-4e2a-b2ac-a8ad70e9a188",
   "metadata": {},
   "source": [
    "### Ler arquivos"
   ]
  },
  {
   "cell_type": "code",
   "execution_count": 4,
   "id": "02ad38aa-5e59-4e67-b6d9-1a041fdb29b0",
   "metadata": {},
   "outputs": [],
   "source": [
    "diretorio = '../1.arquivos'"
   ]
  },
  {
   "cell_type": "code",
   "execution_count": 38,
   "id": "c17b7633-1791-4b89-9f59-fc3b5c631a17",
   "metadata": {},
   "outputs": [],
   "source": [
    "#lendo arquivo csv\n",
    "\n",
    "df_compras = pd.read_csv(f'{diretorio}/Planilha de produção - Modelo.csv', sep = \";\")"
   ]
  },
  {
   "cell_type": "markdown",
   "id": "1a04dabf-641a-42e9-9f90-4384d61da828",
   "metadata": {},
   "source": [
    "### Tratamento"
   ]
  },
  {
   "cell_type": "code",
   "execution_count": 39,
   "id": "49d6ba60-01cd-464d-9cfa-8b7aa08699e1",
   "metadata": {},
   "outputs": [
    {
     "data": {
      "text/plain": [
       "data               object\n",
       "status             object\n",
       "EAN                 int64\n",
       "produto            object\n",
       "Quantidade          int64\n",
       "valor unitario     object\n",
       "valor total        object\n",
       "Unnamed: 7        float64\n",
       "dtype: object"
      ]
     },
     "execution_count": 39,
     "metadata": {},
     "output_type": "execute_result"
    }
   ],
   "source": [
    "df_compras.dtypes"
   ]
  },
  {
   "cell_type": "code",
   "execution_count": 40,
   "id": "728e029f-801b-4c91-9af7-047c21b7da47",
   "metadata": {},
   "outputs": [],
   "source": [
    "#Excluir coluna\n",
    "df_compras = df_compras.drop(axis = 0, columns = 'Unnamed: 7')"
   ]
  },
  {
   "cell_type": "code",
   "execution_count": 41,
   "id": "f4587731-ddcf-42b3-8d19-19c406c2ca4d",
   "metadata": {},
   "outputs": [],
   "source": [
    "df_compras['EAN'] = df_compras['EAN'].astype(str)"
   ]
  },
  {
   "cell_type": "code",
   "execution_count": 42,
   "id": "1a9a6dbf-31f7-4a64-91cd-7d3a7baa58b5",
   "metadata": {},
   "outputs": [],
   "source": [
    "#casting valor unitario\n",
    "df_compras['valor unitario'] = df_compras['valor unitario'].str.replace(',','.')\n",
    "df_compras['valor unitario'] = df_compras['valor unitario'].astype(float)"
   ]
  },
  {
   "cell_type": "code",
   "execution_count": 43,
   "id": "52e22bd5-a972-42da-a870-2f12a46578b5",
   "metadata": {},
   "outputs": [],
   "source": [
    "#casting valor total\n",
    "df_compras['valor total'] = df_compras['valor total'].str.replace(',','.')\n",
    "df_compras['valor total'] = df_compras['valor total'].astype(float)"
   ]
  },
  {
   "cell_type": "markdown",
   "id": "12e75436-868f-4b98-afa9-45fa79b2a45b",
   "metadata": {},
   "source": [
    "### Analises"
   ]
  },
  {
   "cell_type": "code",
   "execution_count": 44,
   "id": "d41d691b-70cb-4cbb-9afa-f828872ca3be",
   "metadata": {},
   "outputs": [
    {
     "data": {
      "text/html": [
       "<div>\n",
       "<style scoped>\n",
       "    .dataframe tbody tr th:only-of-type {\n",
       "        vertical-align: middle;\n",
       "    }\n",
       "\n",
       "    .dataframe tbody tr th {\n",
       "        vertical-align: top;\n",
       "    }\n",
       "\n",
       "    .dataframe thead th {\n",
       "        text-align: right;\n",
       "    }\n",
       "</style>\n",
       "<table border=\"1\" class=\"dataframe\">\n",
       "  <thead>\n",
       "    <tr style=\"text-align: right;\">\n",
       "      <th></th>\n",
       "      <th>Quantidade</th>\n",
       "      <th>valor unitario</th>\n",
       "      <th>valor total</th>\n",
       "    </tr>\n",
       "  </thead>\n",
       "  <tbody>\n",
       "    <tr>\n",
       "      <th>count</th>\n",
       "      <td>11.000000</td>\n",
       "      <td>11.000000</td>\n",
       "      <td>11.000000</td>\n",
       "    </tr>\n",
       "    <tr>\n",
       "      <th>mean</th>\n",
       "      <td>9.272727</td>\n",
       "      <td>312.038182</td>\n",
       "      <td>3025.631818</td>\n",
       "    </tr>\n",
       "    <tr>\n",
       "      <th>std</th>\n",
       "      <td>5.368257</td>\n",
       "      <td>81.302883</td>\n",
       "      <td>2044.460632</td>\n",
       "    </tr>\n",
       "    <tr>\n",
       "      <th>min</th>\n",
       "      <td>3.000000</td>\n",
       "      <td>100.000000</td>\n",
       "      <td>500.000000</td>\n",
       "    </tr>\n",
       "    <tr>\n",
       "      <th>25%</th>\n",
       "      <td>5.000000</td>\n",
       "      <td>295.965000</td>\n",
       "      <td>1523.600000</td>\n",
       "    </tr>\n",
       "    <tr>\n",
       "      <th>50%</th>\n",
       "      <td>8.000000</td>\n",
       "      <td>338.520000</td>\n",
       "      <td>2799.300000</td>\n",
       "    </tr>\n",
       "    <tr>\n",
       "      <th>75%</th>\n",
       "      <td>12.500000</td>\n",
       "      <td>355.260000</td>\n",
       "      <td>4182.675000</td>\n",
       "    </tr>\n",
       "    <tr>\n",
       "      <th>max</th>\n",
       "      <td>20.000000</td>\n",
       "      <td>400.000000</td>\n",
       "      <td>7105.200000</td>\n",
       "    </tr>\n",
       "  </tbody>\n",
       "</table>\n",
       "</div>"
      ],
      "text/plain": [
       "       Quantidade  valor unitario  valor total\n",
       "count   11.000000       11.000000    11.000000\n",
       "mean     9.272727      312.038182  3025.631818\n",
       "std      5.368257       81.302883  2044.460632\n",
       "min      3.000000      100.000000   500.000000\n",
       "25%      5.000000      295.965000  1523.600000\n",
       "50%      8.000000      338.520000  2799.300000\n",
       "75%     12.500000      355.260000  4182.675000\n",
       "max     20.000000      400.000000  7105.200000"
      ]
     },
     "execution_count": 44,
     "metadata": {},
     "output_type": "execute_result"
    }
   ],
   "source": [
    "#Resumo do valores\n",
    "df_compras.describe()"
   ]
  },
  {
   "cell_type": "code",
   "execution_count": 50,
   "id": "f3beeb59-1cda-485f-ab38-2fd2c6ddfeeb",
   "metadata": {},
   "outputs": [
    {
     "name": "stdout",
     "output_type": "stream",
     "text": [
      "A mediana do valor unitário é 338.52\n",
      "A mediana do valor total é 2799.3\n",
      "A mediana da quantidade é 8.0\n"
     ]
    }
   ],
   "source": [
    "#Mediana\n",
    "print('A mediana do valor unitário é', df_compras['valor unitario'].median())\n",
    "print('A mediana do valor total é', df_compras['valor total'].median())\n",
    "print('A mediana da quantidade é', df_compras['Quantidade'].median())"
   ]
  },
  {
   "cell_type": "markdown",
   "id": "710e74a5-63b1-429a-925c-31edc4af7be3",
   "metadata": {},
   "source": [
    "### Adicinar 15 a mais na quantidade"
   ]
  },
  {
   "cell_type": "code",
   "execution_count": 53,
   "id": "a8206528-f7fc-43e1-8d09-f6f32b55dcd1",
   "metadata": {},
   "outputs": [],
   "source": [
    "df_compras['Quantidade'] = df_compras['Quantidade'] + 15\n",
    "df_compras"
   ]
  },
  {
   "cell_type": "code",
   "execution_count": null,
   "id": "1678a701-e43e-4623-9d00-5823253886e8",
   "metadata": {},
   "outputs": [],
   "source": [
    "#Resumo do valores\n",
    "df_compras.describe()"
   ]
  },
  {
   "cell_type": "markdown",
   "id": "7017e74b",
   "metadata": {},
   "source": [
    "### Exemplo de pivot_table"
   ]
  },
  {
   "cell_type": "code",
   "execution_count": 3,
   "id": "b1673373",
   "metadata": {},
   "outputs": [],
   "source": [
    "df = pd.DataFrame({\"A\": [\"foo\", \"foo\", \"foo\", \"foo\", \"foo\",\n",
    "                         \"bar\", \"bar\", \"bar\", \"bar\"],\n",
    "                   \"B\": [\"one\", \"one\", \"one\", \"two\", \"two\",\n",
    "                         \"one\", \"one\", \"two\", \"two\"],\n",
    "                   \"C\": [\"small\", \"large\", \"large\", \"small\",\n",
    "                         \"small\", \"large\", \"small\", \"small\",\n",
    "                         \"large\"],\n",
    "                   \"D\": [1, 2, 2, 3, 3, 4, 5, 6, 7],\n",
    "                   \"E\": [2, 4, 5, 5, 6, 6, 8, 9, 9]})"
   ]
  },
  {
   "cell_type": "code",
   "execution_count": 5,
   "id": "8b527093",
   "metadata": {},
   "outputs": [],
   "source": [
    "#Somando\n",
    "table = pd.pivot_table(df, values='D', index=['A', 'B'],\n",
    "                    columns=['C'], aggfunc=sum)"
   ]
  },
  {
   "cell_type": "code",
   "execution_count": null,
   "id": "c7a9f7e5",
   "metadata": {},
   "outputs": [],
   "source": [
    "#preencher valores faltantes usando o parâmetro fill_value.\n",
    "table = pd.pivot_table(df, values='D', index=['A', 'B'],\n",
    "                    columns=['C'], aggfunc=np.sum, fill_value=0)"
   ]
  },
  {
   "cell_type": "code",
   "execution_count": 11,
   "id": "944d0284",
   "metadata": {},
   "outputs": [
    {
     "data": {
      "text/html": [
       "<div>\n",
       "<style scoped>\n",
       "    .dataframe tbody tr th:only-of-type {\n",
       "        vertical-align: middle;\n",
       "    }\n",
       "\n",
       "    .dataframe tbody tr th {\n",
       "        vertical-align: top;\n",
       "    }\n",
       "\n",
       "    .dataframe thead th {\n",
       "        text-align: right;\n",
       "    }\n",
       "</style>\n",
       "<table border=\"1\" class=\"dataframe\">\n",
       "  <thead>\n",
       "    <tr style=\"text-align: right;\">\n",
       "      <th></th>\n",
       "      <th></th>\n",
       "      <th>D</th>\n",
       "      <th>E</th>\n",
       "    </tr>\n",
       "    <tr>\n",
       "      <th>A</th>\n",
       "      <th>C</th>\n",
       "      <th></th>\n",
       "      <th></th>\n",
       "    </tr>\n",
       "  </thead>\n",
       "  <tbody>\n",
       "    <tr>\n",
       "      <th rowspan=\"2\" valign=\"top\">bar</th>\n",
       "      <th>large</th>\n",
       "      <td>5.500000</td>\n",
       "      <td>7.500000</td>\n",
       "    </tr>\n",
       "    <tr>\n",
       "      <th>small</th>\n",
       "      <td>5.500000</td>\n",
       "      <td>8.500000</td>\n",
       "    </tr>\n",
       "    <tr>\n",
       "      <th rowspan=\"2\" valign=\"top\">foo</th>\n",
       "      <th>large</th>\n",
       "      <td>2.000000</td>\n",
       "      <td>4.500000</td>\n",
       "    </tr>\n",
       "    <tr>\n",
       "      <th>small</th>\n",
       "      <td>2.333333</td>\n",
       "      <td>4.333333</td>\n",
       "    </tr>\n",
       "  </tbody>\n",
       "</table>\n",
       "</div>"
      ],
      "text/plain": [
       "                  D         E\n",
       "A   C                        \n",
       "bar large  5.500000  7.500000\n",
       "    small  5.500000  8.500000\n",
       "foo large  2.000000  4.500000\n",
       "    small  2.333333  4.333333"
      ]
     },
     "execution_count": 11,
     "metadata": {},
     "output_type": "execute_result"
    }
   ],
   "source": [
    "#Media em varias colunas\n",
    "table = pd.pivot_table(df, values=['D', 'E'], index=['A', 'C'],\n",
    "                    aggfunc={'D': np.mean,\n",
    "                             'E': np.mean})\n",
    "table"
   ]
  },
  {
   "cell_type": "code",
   "execution_count": 12,
   "id": "21fb3826",
   "metadata": {},
   "outputs": [
    {
     "data": {
      "text/html": [
       "<div>\n",
       "<style scoped>\n",
       "    .dataframe tbody tr th:only-of-type {\n",
       "        vertical-align: middle;\n",
       "    }\n",
       "\n",
       "    .dataframe tbody tr th {\n",
       "        vertical-align: top;\n",
       "    }\n",
       "\n",
       "    .dataframe thead tr th {\n",
       "        text-align: left;\n",
       "    }\n",
       "\n",
       "    .dataframe thead tr:last-of-type th {\n",
       "        text-align: right;\n",
       "    }\n",
       "</style>\n",
       "<table border=\"1\" class=\"dataframe\">\n",
       "  <thead>\n",
       "    <tr>\n",
       "      <th></th>\n",
       "      <th></th>\n",
       "      <th>D</th>\n",
       "      <th colspan=\"3\" halign=\"left\">E</th>\n",
       "    </tr>\n",
       "    <tr>\n",
       "      <th></th>\n",
       "      <th></th>\n",
       "      <th>mean</th>\n",
       "      <th>max</th>\n",
       "      <th>mean</th>\n",
       "      <th>min</th>\n",
       "    </tr>\n",
       "    <tr>\n",
       "      <th>A</th>\n",
       "      <th>C</th>\n",
       "      <th></th>\n",
       "      <th></th>\n",
       "      <th></th>\n",
       "      <th></th>\n",
       "    </tr>\n",
       "  </thead>\n",
       "  <tbody>\n",
       "    <tr>\n",
       "      <th rowspan=\"2\" valign=\"top\">bar</th>\n",
       "      <th>large</th>\n",
       "      <td>5.500000</td>\n",
       "      <td>9.0</td>\n",
       "      <td>7.500000</td>\n",
       "      <td>6.0</td>\n",
       "    </tr>\n",
       "    <tr>\n",
       "      <th>small</th>\n",
       "      <td>5.500000</td>\n",
       "      <td>9.0</td>\n",
       "      <td>8.500000</td>\n",
       "      <td>8.0</td>\n",
       "    </tr>\n",
       "    <tr>\n",
       "      <th rowspan=\"2\" valign=\"top\">foo</th>\n",
       "      <th>large</th>\n",
       "      <td>2.000000</td>\n",
       "      <td>5.0</td>\n",
       "      <td>4.500000</td>\n",
       "      <td>4.0</td>\n",
       "    </tr>\n",
       "    <tr>\n",
       "      <th>small</th>\n",
       "      <td>2.333333</td>\n",
       "      <td>6.0</td>\n",
       "      <td>4.333333</td>\n",
       "      <td>2.0</td>\n",
       "    </tr>\n",
       "  </tbody>\n",
       "</table>\n",
       "</div>"
      ],
      "text/plain": [
       "                  D    E               \n",
       "               mean  max      mean  min\n",
       "A   C                                  \n",
       "bar large  5.500000  9.0  7.500000  6.0\n",
       "    small  5.500000  9.0  8.500000  8.0\n",
       "foo large  2.000000  5.0  4.500000  4.0\n",
       "    small  2.333333  6.0  4.333333  2.0"
      ]
     },
     "execution_count": 12,
     "metadata": {},
     "output_type": "execute_result"
    }
   ],
   "source": [
    "#calcular vários tipos de agregações para uma determinada coluna de valor\n",
    "table = pd.pivot_table(df, values=['D', 'E'], index=['A', 'C'],\n",
    "                    aggfunc={'D': np.mean,\n",
    "                             'E': [min, max, np.mean]})\n",
    "table"
   ]
  },
  {
   "cell_type": "code",
   "execution_count": null,
   "id": "4c0e6e20",
   "metadata": {},
   "outputs": [],
   "source": []
  }
 ],
 "metadata": {
  "kernelspec": {
   "display_name": "Python 3",
   "language": "python",
   "name": "python3"
  },
  "language_info": {
   "codemirror_mode": {
    "name": "ipython",
    "version": 3
   },
   "file_extension": ".py",
   "mimetype": "text/x-python",
   "name": "python",
   "nbconvert_exporter": "python",
   "pygments_lexer": "ipython3",
   "version": "3.8.10"
  }
 },
 "nbformat": 4,
 "nbformat_minor": 5
}
