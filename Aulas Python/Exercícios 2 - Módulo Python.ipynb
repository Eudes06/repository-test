{
 "cells": [
  {
   "cell_type": "markdown",
   "metadata": {},
   "source": [
    "### <b>Exercícios - Módulo Python - Aula 2<b>"
   ]
  },
  {
   "cell_type": "markdown",
   "metadata": {},
   "source": [
    "- ### <b>Questão 1</b> (Tipos de estruturas de dados)"
   ]
  },
  {
   "cell_type": "markdown",
   "metadata": {},
   "source": [
    "Imprima o tipo de cada estrutura de dados"
   ]
  },
  {
   "cell_type": "code",
   "execution_count": 2,
   "metadata": {},
   "outputs": [],
   "source": [
    "ls_exemplo = [4,5,1]\n",
    "\n",
    "\n",
    "tp_exemplo = ('a', 'b')\n",
    "\n",
    "\n",
    "dic_exemplo = {'AG':'Consultoria'}\n",
    "\n"
   ]
  },
  {
   "cell_type": "code",
   "execution_count": 7,
   "metadata": {},
   "outputs": [
    {
     "name": "stdout",
     "output_type": "stream",
     "text": [
      "<class 'list'>\n",
      "<class 'tuple'>\n",
      "<class 'dict'>\n"
     ]
    }
   ],
   "source": [
    "print(type(ls_exemplo))\n",
    "print(type(tp_exemplo))\n",
    "print(type(dic_exemplo))"
   ]
  },
  {
   "cell_type": "markdown",
   "metadata": {},
   "source": [
    "- ### <b>Questão 2</b> (Listas)"
   ]
  },
  {
   "cell_type": "markdown",
   "metadata": {},
   "source": [
    "Declare uma lista vazia e inclua o número da sua idade nela.\n",
    "Dica: Voce pode declarar uma lista vazia usando colchetes sem nenhum valor dentro: <code>[]</code>"
   ]
  },
  {
   "cell_type": "code",
   "execution_count": 14,
   "metadata": {
    "ExecuteTime": {
     "end_time": "2022-04-23T14:24:24.026166Z",
     "start_time": "2022-04-23T14:24:24.014198Z"
    }
   },
   "outputs": [],
   "source": [
    "idade = []"
   ]
  },
  {
   "cell_type": "code",
   "execution_count": 15,
   "metadata": {
    "ExecuteTime": {
     "end_time": "2022-04-23T14:24:25.450519Z",
     "start_time": "2022-04-23T14:24:25.440545Z"
    }
   },
   "outputs": [],
   "source": [
    "idade.append(24)"
   ]
  },
  {
   "cell_type": "code",
   "execution_count": 16,
   "metadata": {
    "ExecuteTime": {
     "end_time": "2022-04-23T14:24:28.811758Z",
     "start_time": "2022-04-23T14:24:28.790814Z"
    }
   },
   "outputs": [
    {
     "data": {
      "text/plain": [
       "[24]"
      ]
     },
     "execution_count": 16,
     "metadata": {},
     "output_type": "execute_result"
    }
   ],
   "source": [
    "idade"
   ]
  },
  {
   "cell_type": "markdown",
   "metadata": {},
   "source": [
    "- ### <b>Questão 3</b> (Listas)"
   ]
  },
  {
   "cell_type": "markdown",
   "metadata": {},
   "source": [
    "Declare uma nova lista que receba todos os itens da lista ls_valores mas sem o primeiro e o último item"
   ]
  },
  {
   "cell_type": "code",
   "execution_count": 17,
   "metadata": {
    "ExecuteTime": {
     "end_time": "2022-04-23T14:25:35.946563Z",
     "start_time": "2022-04-23T14:25:35.938585Z"
    }
   },
   "outputs": [],
   "source": [
    "ls_valores = [11,5, 7, 9, 44]"
   ]
  },
  {
   "cell_type": "code",
   "execution_count": 18,
   "metadata": {
    "ExecuteTime": {
     "end_time": "2022-04-23T14:25:36.840538Z",
     "start_time": "2022-04-23T14:25:36.825578Z"
    }
   },
   "outputs": [
    {
     "data": {
      "text/plain": [
       "[5, 7, 9]"
      ]
     },
     "execution_count": 18,
     "metadata": {},
     "output_type": "execute_result"
    }
   ],
   "source": [
    "ls_valores[1:4]"
   ]
  },
  {
   "cell_type": "markdown",
   "metadata": {},
   "source": [
    "- ### <b>Questão 4</b> (Listas e strings)"
   ]
  },
  {
   "cell_type": "markdown",
   "metadata": {},
   "source": [
    "Imprima na tela a quantidade de itens nessa lista"
   ]
  },
  {
   "cell_type": "code",
   "execution_count": 20,
   "metadata": {
    "ExecuteTime": {
     "end_time": "2022-04-23T14:26:01.214596Z",
     "start_time": "2022-04-23T14:26:01.197641Z"
    }
   },
   "outputs": [],
   "source": [
    "ls_txt = ['osvbrgoaoij', 'asonoawron', 'IEJIAWGNP']"
   ]
  },
  {
   "cell_type": "code",
   "execution_count": null,
   "metadata": {},
   "outputs": [],
   "source": [
    "len(ls_txt)"
   ]
  },
  {
   "cell_type": "markdown",
   "metadata": {},
   "source": [
    "- ### <b>Questão 5</b> (Listas e strings)"
   ]
  },
  {
   "cell_type": "markdown",
   "metadata": {},
   "source": [
    "Imprima na tela a quantidade de letras da string  na 1° posição da lista da questão anterior"
   ]
  },
  {
   "cell_type": "code",
   "execution_count": 22,
   "metadata": {
    "ExecuteTime": {
     "end_time": "2022-04-23T14:26:42.508978Z",
     "start_time": "2022-04-23T14:26:42.500035Z"
    }
   },
   "outputs": [
    {
     "data": {
      "text/plain": [
       "11"
      ]
     },
     "execution_count": 22,
     "metadata": {},
     "output_type": "execute_result"
    }
   ],
   "source": [
    "len(ls_txt[0])"
   ]
  },
  {
   "cell_type": "markdown",
   "metadata": {},
   "source": [
    "- ### <b>Questão 6</b> (Listas)"
   ]
  },
  {
   "cell_type": "markdown",
   "metadata": {},
   "source": [
    "Imprima o tipo do valor na 2° posição da lista a seguir"
   ]
  },
  {
   "cell_type": "code",
   "execution_count": null,
   "metadata": {},
   "outputs": [],
   "source": [
    "ls_valores = [1, [4,5], 'AT', 5.5]"
   ]
  },
  {
   "cell_type": "code",
   "execution_count": 24,
   "metadata": {
    "ExecuteTime": {
     "end_time": "2022-04-23T14:28:11.094183Z",
     "start_time": "2022-04-23T14:28:11.084210Z"
    }
   },
   "outputs": [
    {
     "data": {
      "text/plain": [
       "int"
      ]
     },
     "execution_count": 24,
     "metadata": {},
     "output_type": "execute_result"
    }
   ],
   "source": [
    "type(ls_valores[1])"
   ]
  },
  {
   "cell_type": "markdown",
   "metadata": {},
   "source": [
    "- ### <b>Questão 7</b> (Listas)"
   ]
  },
  {
   "cell_type": "markdown",
   "metadata": {},
   "source": [
    "Concatene as listas a seguir e imprima o tamanho da nova lista"
   ]
  },
  {
   "cell_type": "code",
   "execution_count": 25,
   "metadata": {
    "ExecuteTime": {
     "end_time": "2022-04-23T14:28:56.129624Z",
     "start_time": "2022-04-23T14:28:56.114665Z"
    }
   },
   "outputs": [],
   "source": [
    "ls_valores = [1,564,125,6,23,8,2,84]\n",
    "ls_textos = ['faiaqg', '790', 'nonoaa', 'ubókbw']"
   ]
  },
  {
   "cell_type": "code",
   "execution_count": 27,
   "metadata": {
    "ExecuteTime": {
     "end_time": "2022-04-23T14:29:28.804022Z",
     "start_time": "2022-04-23T14:29:28.783076Z"
    }
   },
   "outputs": [
    {
     "data": {
      "text/plain": [
       "12"
      ]
     },
     "execution_count": 27,
     "metadata": {},
     "output_type": "execute_result"
    }
   ],
   "source": [
    "len(ls_valores + ls_textos)"
   ]
  },
  {
   "cell_type": "markdown",
   "metadata": {},
   "source": [
    "- ### <b>Questão 8</b> (Listas)"
   ]
  },
  {
   "cell_type": "markdown",
   "metadata": {},
   "source": [
    "A lista a seguir contem valores inteiros, verifique se sua idade está contida nessa lista"
   ]
  },
  {
   "cell_type": "code",
   "execution_count": 29,
   "metadata": {
    "ExecuteTime": {
     "end_time": "2022-04-23T14:31:52.592603Z",
     "start_time": "2022-04-23T14:31:52.578641Z"
    }
   },
   "outputs": [],
   "source": [
    "ls_idades = [35, 25245, 23, 56, 1212, 99, 104, 4, 1311, 6, 13013, 93, 26, 15, 1131, 89, 46242, 145, 2, 4, 8, 90, 45, 12, 76, 15, 34, 232,39385]"
   ]
  },
  {
   "cell_type": "code",
   "execution_count": 33,
   "metadata": {
    "ExecuteTime": {
     "end_time": "2022-04-23T14:32:22.288780Z",
     "start_time": "2022-04-23T14:32:22.279804Z"
    }
   },
   "outputs": [
    {
     "data": {
      "text/plain": [
       "False"
      ]
     },
     "execution_count": 33,
     "metadata": {},
     "output_type": "execute_result"
    }
   ],
   "source": [
    "24 in ls_idades"
   ]
  },
  {
   "cell_type": "markdown",
   "metadata": {},
   "source": [
    "- ### <b>Questão 9</b> (Listas)"
   ]
  },
  {
   "cell_type": "markdown",
   "metadata": {},
   "source": [
    "Imprima o maior e o menor valor da lista anterior"
   ]
  },
  {
   "cell_type": "code",
   "execution_count": 34,
   "metadata": {
    "ExecuteTime": {
     "end_time": "2022-04-23T14:33:12.765542Z",
     "start_time": "2022-04-23T14:33:12.754570Z"
    }
   },
   "outputs": [
    {
     "data": {
      "text/plain": [
       "46242"
      ]
     },
     "execution_count": 34,
     "metadata": {},
     "output_type": "execute_result"
    }
   ],
   "source": [
    "max(ls_idades)"
   ]
  },
  {
   "cell_type": "code",
   "execution_count": 35,
   "metadata": {
    "ExecuteTime": {
     "end_time": "2022-04-23T14:33:24.048365Z",
     "start_time": "2022-04-23T14:33:24.035439Z"
    }
   },
   "outputs": [
    {
     "data": {
      "text/plain": [
       "2"
      ]
     },
     "execution_count": 35,
     "metadata": {},
     "output_type": "execute_result"
    }
   ],
   "source": [
    "min(ls_idades)"
   ]
  },
  {
   "cell_type": "markdown",
   "metadata": {},
   "source": [
    "- ### <b>Questão 10</b> (Strings)"
   ]
  },
  {
   "cell_type": "markdown",
   "metadata": {},
   "source": [
    "Imprima a string abaixo em caixa alta"
   ]
  },
  {
   "cell_type": "code",
   "execution_count": 36,
   "metadata": {
    "ExecuteTime": {
     "end_time": "2022-04-23T14:34:09.044793Z",
     "start_time": "2022-04-23T14:34:09.025331Z"
    }
   },
   "outputs": [],
   "source": [
    "txt = \"python é legal\""
   ]
  },
  {
   "cell_type": "code",
   "execution_count": 37,
   "metadata": {
    "ExecuteTime": {
     "end_time": "2022-04-23T14:34:09.819269Z",
     "start_time": "2022-04-23T14:34:09.802316Z"
    }
   },
   "outputs": [
    {
     "data": {
      "text/plain": [
       "'PYTHON É LEGAL'"
      ]
     },
     "execution_count": 37,
     "metadata": {},
     "output_type": "execute_result"
    }
   ],
   "source": [
    "txt.upper()"
   ]
  },
  {
   "cell_type": "markdown",
   "metadata": {},
   "source": [
    "- ### <b>Questão 11</b> (Strings)"
   ]
  },
  {
   "cell_type": "markdown",
   "metadata": {},
   "source": [
    "Declare uma string com seu nome completo e imprima o tamanho do seu nome e quantos vezes a letra A aparece nele"
   ]
  },
  {
   "cell_type": "code",
   "execution_count": 38,
   "metadata": {
    "ExecuteTime": {
     "end_time": "2022-04-23T14:35:30.814482Z",
     "start_time": "2022-04-23T14:35:30.787555Z"
    }
   },
   "outputs": [
    {
     "ename": "TypeError",
     "evalue": "type() takes 1 or 3 arguments",
     "output_type": "error",
     "traceback": [
      "\u001b[1;31m---------------------------------------------------------------------------\u001b[0m",
      "\u001b[1;31mTypeError\u001b[0m                                 Traceback (most recent call last)",
      "\u001b[1;32m<ipython-input-38-ff6dcb82abed>\u001b[0m in \u001b[0;36m<module>\u001b[1;34m\u001b[0m\n\u001b[1;32m----> 1\u001b[1;33m \u001b[0mtype\u001b[0m\u001b[1;33m(\u001b[0m\u001b[1;33m)\u001b[0m\u001b[1;33m\u001b[0m\u001b[1;33m\u001b[0m\u001b[0m\n\u001b[0m",
      "\u001b[1;31mTypeError\u001b[0m: type() takes 1 or 3 arguments"
     ]
    }
   ],
   "source": []
  },
  {
   "cell_type": "code",
   "execution_count": null,
   "metadata": {},
   "outputs": [],
   "source": []
  },
  {
   "cell_type": "markdown",
   "metadata": {},
   "source": [
    "- ### <b>Questão 12</b> (Strings)"
   ]
  },
  {
   "cell_type": "markdown",
   "metadata": {},
   "source": [
    "Crie um string a apartir da string nome, mas com a primeira letra maiuscula"
   ]
  },
  {
   "cell_type": "code",
   "execution_count": 1,
   "metadata": {
    "ExecuteTime": {
     "end_time": "2022-04-23T14:18:25.178445Z",
     "start_time": "2022-04-23T14:18:25.135557Z"
    }
   },
   "outputs": [],
   "source": [
    "nome = 'fernanda'"
   ]
  },
  {
   "cell_type": "code",
   "execution_count": 4,
   "metadata": {
    "ExecuteTime": {
     "end_time": "2022-04-23T14:18:48.141938Z",
     "start_time": "2022-04-23T14:18:48.108992Z"
    }
   },
   "outputs": [
    {
     "data": {
      "text/plain": [
       "'Fernanda'"
      ]
     },
     "execution_count": 4,
     "metadata": {},
     "output_type": "execute_result"
    }
   ],
   "source": [
    "nome[0].upper() + nome[1:]"
   ]
  },
  {
   "cell_type": "code",
   "execution_count": 5,
   "metadata": {
    "ExecuteTime": {
     "end_time": "2022-04-23T14:18:56.905598Z",
     "start_time": "2022-04-23T14:18:56.897622Z"
    }
   },
   "outputs": [
    {
     "data": {
      "text/plain": [
       "'Fernanda'"
      ]
     },
     "execution_count": 5,
     "metadata": {},
     "output_type": "execute_result"
    }
   ],
   "source": [
    "nome.title()"
   ]
  },
  {
   "cell_type": "markdown",
   "metadata": {},
   "source": [
    "- ### <b>Questão 13</b> (Strings)"
   ]
  },
  {
   "cell_type": "markdown",
   "metadata": {},
   "source": [
    "O nome anterior pertence a uma médica, normalmente os médicos preferem ser chamados de Dr. e Dra.\n",
    "Imprima uma nova string a partir da string da questão anterior com a palavra Dra. antes do nome"
   ]
  },
  {
   "cell_type": "code",
   "execution_count": 9,
   "metadata": {
    "ExecuteTime": {
     "end_time": "2022-04-23T14:19:38.862776Z",
     "start_time": "2022-04-23T14:19:38.841836Z"
    }
   },
   "outputs": [
    {
     "data": {
      "text/plain": [
       "'Dra. fernanda'"
      ]
     },
     "execution_count": 9,
     "metadata": {},
     "output_type": "execute_result"
    }
   ],
   "source": [
    "'Dra. ' + nome"
   ]
  },
  {
   "cell_type": "code",
   "execution_count": null,
   "metadata": {},
   "outputs": [],
   "source": []
  },
  {
   "cell_type": "markdown",
   "metadata": {},
   "source": [
    "- ### <b>Questão 14</b> (Strings)"
   ]
  },
  {
   "cell_type": "markdown",
   "metadata": {},
   "source": [
    "Imprima seu nome 100 vezes na tela, todos separados por espaço:"
   ]
  },
  {
   "cell_type": "code",
   "execution_count": 11,
   "metadata": {
    "ExecuteTime": {
     "end_time": "2022-04-23T14:21:01.889553Z",
     "start_time": "2022-04-23T14:21:01.871604Z"
    }
   },
   "outputs": [
    {
     "data": {
      "text/plain": [
       "'Eudes Eudes Eudes Eudes Eudes Eudes Eudes Eudes Eudes Eudes Eudes Eudes Eudes Eudes Eudes Eudes Eudes Eudes Eudes Eudes Eudes Eudes Eudes Eudes Eudes Eudes Eudes Eudes Eudes Eudes Eudes Eudes Eudes Eudes Eudes Eudes Eudes Eudes Eudes Eudes Eudes Eudes Eudes Eudes Eudes Eudes Eudes Eudes Eudes Eudes Eudes Eudes Eudes Eudes Eudes Eudes Eudes Eudes Eudes Eudes Eudes Eudes Eudes Eudes Eudes Eudes Eudes Eudes Eudes Eudes Eudes Eudes Eudes Eudes Eudes Eudes Eudes Eudes Eudes Eudes Eudes Eudes Eudes Eudes Eudes Eudes Eudes Eudes Eudes Eudes Eudes Eudes Eudes Eudes Eudes Eudes Eudes Eudes Eudes Eudes '"
      ]
     },
     "execution_count": 11,
     "metadata": {},
     "output_type": "execute_result"
    }
   ],
   "source": [
    "('Eudes ') * 100"
   ]
  },
  {
   "cell_type": "markdown",
   "metadata": {},
   "source": [
    "- ### <b>Questão 15</b> (Strings)"
   ]
  },
  {
   "cell_type": "markdown",
   "metadata": {},
   "source": [
    "Abaixo há strings com separadores padrão, separa as strings por esses separadores e retorne o último valor após separá-los"
   ]
  },
  {
   "cell_type": "code",
   "execution_count": 22,
   "metadata": {},
   "outputs": [],
   "source": [
    "txt = '01/05/2022'\n",
    "txt2 = 'Nome|Idade|Altura'\n",
    "txt3 = 'Clayton;47;1.65'"
   ]
  },
  {
   "cell_type": "code",
   "execution_count": null,
   "metadata": {},
   "outputs": [],
   "source": []
  },
  {
   "cell_type": "code",
   "execution_count": null,
   "metadata": {},
   "outputs": [],
   "source": []
  },
  {
   "cell_type": "code",
   "execution_count": null,
   "metadata": {},
   "outputs": [],
   "source": []
  }
 ],
 "metadata": {
  "kernelspec": {
   "display_name": "Python 3",
   "language": "python",
   "name": "python3"
  },
  "language_info": {
   "codemirror_mode": {
    "name": "ipython",
    "version": 3
   },
   "file_extension": ".py",
   "mimetype": "text/x-python",
   "name": "python",
   "nbconvert_exporter": "python",
   "pygments_lexer": "ipython3",
   "version": "3.8.8"
  }
 },
 "nbformat": 4,
 "nbformat_minor": 4
}
