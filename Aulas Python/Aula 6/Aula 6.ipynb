{
 "cells": [
  {
   "cell_type": "markdown",
   "metadata": {},
   "source": [
    "### <b>Aula 6<b>"
   ]
  },
  {
   "cell_type": "markdown",
   "metadata": {},
   "source": [
    "## 6. Estrutura de repetição"
   ]
  },
  {
   "cell_type": "markdown",
   "metadata": {},
   "source": [
    "Uma estrutura de repetição como o nome sugere, se trata de uma forma de codificar a execução de instruções repetidas vezes"
   ]
  },
  {
   "cell_type": "markdown",
   "metadata": {},
   "source": [
    "Em python temos dois comandos que permitem criar essas estruturas, comandos de loop que são <code>for</code> e <code>while</code>"
   ]
  },
  {
   "cell_type": "markdown",
   "metadata": {},
   "source": [
    "### 5.1 While"
   ]
  },
  {
   "cell_type": "markdown",
   "metadata": {},
   "source": [
    "o <code>while</code> funciona de forma parecida com a estrutura condicional <code>if</code>, que recebe uma verificação lógica e realiza(ou não) uma instrução, a diferença é que o <code>while</code> segue realizando a instrução até que a condição dada não seja mais satisfeita"
   ]
  },
  {
   "cell_type": "markdown",
   "metadata": {},
   "source": [
    "<code>while(condição):</code><br>\n",
    "> #código aqui"
   ]
  },
  {
   "cell_type": "code",
   "execution_count": 1,
   "metadata": {},
   "outputs": [
    {
     "name": "stdout",
     "output_type": "stream",
     "text": [
      "4\n"
     ]
    }
   ],
   "source": [
    "num = 1\n",
    "\n",
    "while(num<4):\n",
    "    num += 1\n",
    "\n",
    "print(num)"
   ]
  },
  {
   "cell_type": "markdown",
   "metadata": {},
   "source": [
    "Estruturas condicionais podem ser usadas dentro de estruturas de repetição normalmente:"
   ]
  },
  {
   "cell_type": "code",
   "execution_count": 6,
   "metadata": {},
   "outputs": [
    {
     "name": "stdout",
     "output_type": "stream",
     "text": [
      "1 é menor que 3\n",
      "2 é menor que 3\n",
      "3 é maior o igual a 3\n"
     ]
    }
   ],
   "source": [
    "num = 1\n",
    "\n",
    "while(num<4):\n",
    "    if num < 3:\n",
    "        print(num, 'é menor que 3')\n",
    "    else:\n",
    "        print(num, 'é maior o igual a 3')\n",
    "    num = num + 1\n"
   ]
  },
  {
   "cell_type": "markdown",
   "metadata": {},
   "source": [
    "### 5.1 For"
   ]
  },
  {
   "cell_type": "markdown",
   "metadata": {},
   "source": [
    "O <code>for</code> é um loop que tem fim definido pelo tamanho do tipo onde voce o aplica, funcionando com tipos de dados que permitem iterações"
   ]
  },
  {
   "cell_type": "markdown",
   "metadata": {},
   "source": [
    "#### 5.1.1 Conceito de iteração"
   ]
  },
  {
   "cell_type": "markdown",
   "metadata": {},
   "source": [
    "Iterar em programação é voce percorrer os elementos 1 a 1, de um tipo de dado. Tipos númericos e booleanos não permitem isso, mas strings e estruturas de dados sim"
   ]
  },
  {
   "cell_type": "markdown",
   "metadata": {},
   "source": [
    "#### 5.1.1 for"
   ]
  },
  {
   "cell_type": "markdown",
   "metadata": {},
   "source": [
    "Ao escrever um <code>for</code>, criamos uma variavel para representar cada elemento dos elementos onde estamos iterando, abaixo por exemplo, a variavel é \"item\", mas pode ser qualquer assumir qualquer nome"
   ]
  },
  {
   "cell_type": "markdown",
   "metadata": {},
   "source": [
    "<code>for</code> item <code>in</code> tipo_de_dado_iteravel:\n",
    "<br>\n",
    "> #código aqui"
   ]
  },
  {
   "cell_type": "code",
   "execution_count": 7,
   "metadata": {},
   "outputs": [
    {
     "name": "stdout",
     "output_type": "stream",
     "text": [
      "1\n",
      "2\n",
      "3\n",
      "4\n"
     ]
    }
   ],
   "source": [
    "ls = [1,2,3,4]\n",
    "\n",
    "for x in ls:\n",
    "    print(x)"
   ]
  },
  {
   "cell_type": "markdown",
   "metadata": {},
   "source": [
    "O trecho de código acima, percorre cada valor da lista, utilizando a variavel \"x\" e o imprime"
   ]
  },
  {
   "cell_type": "markdown",
   "metadata": {},
   "source": [
    "Assim como mostramos no <code>while</code>, estruturas condicionais podem ser usados normamlmente dentro de um <code>for</code>"
   ]
  },
  {
   "cell_type": "code",
   "execution_count": 8,
   "metadata": {},
   "outputs": [
    {
     "name": "stdout",
     "output_type": "stream",
     "text": [
      "1 é diferente de 4\n",
      "2 é diferente de 4\n",
      "3 é diferente de 4\n",
      "4 é igual a 4\n"
     ]
    }
   ],
   "source": [
    "ls = [1,2,3,4]\n",
    "\n",
    "for x in ls:\n",
    "    if x == 4:\n",
    "        print(x, 'é igual a 4')\n",
    "    else:\n",
    "        print(x, 'é diferente de 4')"
   ]
  },
  {
   "cell_type": "markdown",
   "metadata": {},
   "source": [
    "### 5.1 Break"
   ]
  },
  {
   "cell_type": "markdown",
   "metadata": {},
   "source": [
    "Usando uma instrução <code>break</code>, é possivel interromper a execução de um loop sem que ele chuegue no fim anterioormente esperado. Funciona da mesma forma no <code>for</code> e <code>while</code> e só pode ser usado em conjunto com loops"
   ]
  },
  {
   "cell_type": "code",
   "execution_count": 11,
   "metadata": {},
   "outputs": [
    {
     "name": "stdout",
     "output_type": "stream",
     "text": [
      "1\n",
      "2\n"
     ]
    }
   ],
   "source": [
    "ls= [1,2,3,4,5]\n",
    "\n",
    "for x in ls:\n",
    "    print(x)\n",
    "    \n",
    "    if x == 2:\n",
    "        break"
   ]
  },
  {
   "cell_type": "markdown",
   "metadata": {},
   "source": [
    "### 5.1 Range"
   ]
  },
  {
   "cell_type": "markdown",
   "metadata": {},
   "source": [
    "A função <code>range</code> retorna um intervalo de números, por padrão começando em 0, e terminando de acordo com o parametro dado. Fazendo casting no range para lista, temor o retorno de uma lista"
   ]
  },
  {
   "cell_type": "markdown",
   "metadata": {},
   "source": [
    "<code>range(início, parada)</code>"
   ]
  },
  {
   "cell_type": "code",
   "execution_count": 24,
   "metadata": {},
   "outputs": [
    {
     "data": {
      "text/plain": [
       "[0, 1, 2, 3, 4, 5, 6, 7, 8, 9]"
      ]
     },
     "execution_count": 24,
     "metadata": {},
     "output_type": "execute_result"
    }
   ],
   "source": [
    "list(range(10))"
   ]
  },
  {
   "cell_type": "code",
   "execution_count": null,
   "metadata": {},
   "outputs": [],
   "source": []
  }
 ],
 "metadata": {
  "kernelspec": {
   "display_name": "Python 3",
   "language": "python",
   "name": "python3"
  },
  "language_info": {
   "codemirror_mode": {
    "name": "ipython",
    "version": 3
   },
   "file_extension": ".py",
   "mimetype": "text/x-python",
   "name": "python",
   "nbconvert_exporter": "python",
   "pygments_lexer": "ipython3",
   "version": "3.8.8"
  }
 },
 "nbformat": 4,
 "nbformat_minor": 4
}
