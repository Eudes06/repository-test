{
 "cells": [
  {
   "cell_type": "markdown",
   "metadata": {},
   "source": [
    "### <b>Exercícios - Aula 6 - Estruturas de repetição<b>"
   ]
  },
  {
   "cell_type": "markdown",
   "metadata": {},
   "source": [
    "- ### <b>Questão 1</b> (while)"
   ]
  },
  {
   "cell_type": "markdown",
   "metadata": {},
   "source": [
    "Enquanto num for menor que 150, some 10 a variavel num e a imprima"
   ]
  },
  {
   "cell_type": "code",
   "execution_count": 20,
   "metadata": {},
   "outputs": [],
   "source": [
    "num = 0"
   ]
  },
  {
   "cell_type": "code",
   "execution_count": 23,
   "metadata": {},
   "outputs": [
    {
     "name": "stdout",
     "output_type": "stream",
     "text": [
      "150\n"
     ]
    }
   ],
   "source": [
    "while(num<150):\n",
    "    num +=  10\n",
    "    print(num)\n",
    "    \n",
    "print(num)"
   ]
  },
  {
   "cell_type": "markdown",
   "metadata": {},
   "source": [
    "- ### <b>Questão 2</b> (while)"
   ]
  },
  {
   "cell_type": "markdown",
   "metadata": {},
   "source": [
    "Imprima os números que são divisiveis por 3, de num1 até num2 <br>\n",
    "dica: Voce pode usar o operador \"%\" para verificar o resta da divisão entre dois numeros"
   ]
  },
  {
   "cell_type": "code",
   "execution_count": 90,
   "metadata": {},
   "outputs": [
    {
     "data": {
      "text/plain": [
       "0"
      ]
     },
     "execution_count": 90,
     "metadata": {},
     "output_type": "execute_result"
    }
   ],
   "source": [
    "6%3"
   ]
  },
  {
   "cell_type": "code",
   "execution_count": 86,
   "metadata": {},
   "outputs": [],
   "source": [
    "num1 = 1\n",
    "num2 = 96"
   ]
  },
  {
   "cell_type": "code",
   "execution_count": 87,
   "metadata": {},
   "outputs": [
    {
     "name": "stdout",
     "output_type": "stream",
     "text": [
      "3 é divisivel por 3\n",
      "6 é divisivel por 3\n",
      "9 é divisivel por 3\n",
      "12 é divisivel por 3\n",
      "15 é divisivel por 3\n",
      "18 é divisivel por 3\n",
      "21 é divisivel por 3\n",
      "24 é divisivel por 3\n",
      "27 é divisivel por 3\n",
      "30 é divisivel por 3\n",
      "33 é divisivel por 3\n",
      "36 é divisivel por 3\n",
      "39 é divisivel por 3\n",
      "42 é divisivel por 3\n",
      "45 é divisivel por 3\n",
      "48 é divisivel por 3\n",
      "51 é divisivel por 3\n",
      "54 é divisivel por 3\n",
      "57 é divisivel por 3\n",
      "60 é divisivel por 3\n",
      "63 é divisivel por 3\n",
      "66 é divisivel por 3\n",
      "69 é divisivel por 3\n",
      "72 é divisivel por 3\n",
      "75 é divisivel por 3\n",
      "78 é divisivel por 3\n",
      "81 é divisivel por 3\n",
      "84 é divisivel por 3\n",
      "87 é divisivel por 3\n",
      "90 é divisivel por 3\n",
      "93 é divisivel por 3\n",
      "96 é divisivel por 3\n"
     ]
    }
   ],
   "source": [
    "while(num1<=num2):\n",
    "    if num1 % 3 == 0:\n",
    "        print(num1, 'é divisivel por 3')\n",
    "    num1 +=1 "
   ]
  },
  {
   "cell_type": "markdown",
   "metadata": {},
   "source": [
    "- ### <b>Questão 3</b> (for)"
   ]
  },
  {
   "cell_type": "markdown",
   "metadata": {},
   "source": [
    "Imprima o tipo de dado de todos os itens da lista"
   ]
  },
  {
   "cell_type": "code",
   "execution_count": 67,
   "metadata": {},
   "outputs": [],
   "source": [
    "ls = [1,'3', 4.5]"
   ]
  },
  {
   "cell_type": "code",
   "execution_count": 69,
   "metadata": {},
   "outputs": [
    {
     "name": "stdout",
     "output_type": "stream",
     "text": [
      "<class 'int'>\n",
      "<class 'str'>\n",
      "<class 'float'>\n"
     ]
    }
   ],
   "source": [
    "for i in ls:\n",
    "    print(type(i))"
   ]
  },
  {
   "cell_type": "markdown",
   "metadata": {},
   "source": [
    "- ### <b>Questão 4</b> (for e range)"
   ]
  },
  {
   "cell_type": "markdown",
   "metadata": {},
   "source": [
    "Imprima os números pares do intervalo de 0 a 20"
   ]
  },
  {
   "cell_type": "code",
   "execution_count": 72,
   "metadata": {},
   "outputs": [
    {
     "name": "stdout",
     "output_type": "stream",
     "text": [
      "0\n",
      "2\n",
      "4\n",
      "6\n",
      "8\n",
      "10\n",
      "12\n",
      "14\n",
      "16\n",
      "18\n",
      "20\n"
     ]
    }
   ],
   "source": [
    "for i in range(21):\n",
    "    if i % 2 == 0:\n",
    "        print(i)\n",
    "    "
   ]
  },
  {
   "cell_type": "markdown",
   "metadata": {},
   "source": [
    "- ### <b>Questão 5</b> (for)"
   ]
  },
  {
   "cell_type": "markdown",
   "metadata": {},
   "source": [
    "Imprima o nome de cada aluno, com a palavra \"Aluno\" antes do nome"
   ]
  },
  {
   "cell_type": "code",
   "execution_count": 74,
   "metadata": {},
   "outputs": [],
   "source": [
    "ls_alunos = ['Larissa', 'Rebeka', 'Eudes', 'Jorge']"
   ]
  },
  {
   "cell_type": "code",
   "execution_count": 75,
   "metadata": {},
   "outputs": [
    {
     "name": "stdout",
     "output_type": "stream",
     "text": [
      "Aluno Larissa\n",
      "Aluno Rebeka\n",
      "Aluno Eudes\n",
      "Aluno Jorge\n"
     ]
    }
   ],
   "source": [
    "for i in ls_alunos:\n",
    "    print('Aluno', i)"
   ]
  },
  {
   "cell_type": "markdown",
   "metadata": {},
   "source": [
    "- ### <b>Questão 6</b> (for)"
   ]
  },
  {
   "cell_type": "code",
   "execution_count": 1,
   "metadata": {},
   "outputs": [],
   "source": [
    "ls = [[1,2], -1, ['a', 'b', 'c'], 'Leo',[4, 6, 4], 13]"
   ]
  },
  {
   "cell_type": "markdown",
   "metadata": {},
   "source": [
    "Percorra lista e imprima os seus elementos, se o elemento for uma lista imprima também todos os elementos dela individualmente"
   ]
  },
  {
   "cell_type": "code",
   "execution_count": 18,
   "metadata": {},
   "outputs": [
    {
     "name": "stdout",
     "output_type": "stream",
     "text": [
      "1\n",
      "2\n",
      "-1\n",
      "a\n",
      "b\n",
      "c\n",
      "Leo\n",
      "4\n",
      "6\n",
      "4\n",
      "13\n"
     ]
    }
   ],
   "source": [
    "for i in ls:\n",
    "    if type(i) == list:\n",
    "        for j in i:\n",
    "            print(j)\n",
    "    else:\n",
    "        print(i)"
   ]
  },
  {
   "cell_type": "markdown",
   "metadata": {},
   "source": [
    "- ### <b>Questão 7</b> (for)"
   ]
  },
  {
   "cell_type": "code",
   "execution_count": 77,
   "metadata": {},
   "outputs": [],
   "source": [
    "ls_empresa = ['AG', 'Money+']\n",
    "ls_elogio = ['tech', 'pop', 'tudo']"
   ]
  },
  {
   "cell_type": "markdown",
   "metadata": {},
   "source": [
    "Imprima cada elogio para cada empresa<br>\n",
    "dica: use um for dentro de outro for"
   ]
  },
  {
   "cell_type": "code",
   "execution_count": 80,
   "metadata": {},
   "outputs": [
    {
     "name": "stdout",
     "output_type": "stream",
     "text": [
      "AG tech\n",
      "AG pop\n",
      "AG tudo\n",
      "Money+ tech\n",
      "Money+ pop\n",
      "Money+ tudo\n"
     ]
    }
   ],
   "source": [
    "for i in ls_empresa:\n",
    "    for z in ls_elogio:\n",
    "        print(i,z)"
   ]
  }
 ],
 "metadata": {
  "kernelspec": {
   "display_name": "Python 3",
   "language": "python",
   "name": "python3"
  },
  "language_info": {
   "codemirror_mode": {
    "name": "ipython",
    "version": 3
   },
   "file_extension": ".py",
   "mimetype": "text/x-python",
   "name": "python",
   "nbconvert_exporter": "python",
   "pygments_lexer": "ipython3",
   "version": "3.8.8"
  }
 },
 "nbformat": 4,
 "nbformat_minor": 4
}
