{
 "cells": [
  {
   "cell_type": "code",
   "execution_count": 1,
   "id": "0eca653d-c34e-42a4-b782-bd8477aef0e3",
   "metadata": {},
   "outputs": [],
   "source": [
    "#Listas"
   ]
  },
  {
   "cell_type": "code",
   "execution_count": 2,
   "id": "47ba39db-04dc-4948-bd82-440cd6d0721f",
   "metadata": {},
   "outputs": [],
   "source": [
    "lista = ['Caju','Laranja','Banana', 'Uva']"
   ]
  },
  {
   "cell_type": "code",
   "execution_count": 3,
   "id": "ea27c9b6-63d9-4f43-bca5-05a98784f5f2",
   "metadata": {},
   "outputs": [
    {
     "name": "stdout",
     "output_type": "stream",
     "text": [
      "Caju\n",
      "Laranja\n",
      "Banana\n",
      "Uva\n"
     ]
    }
   ],
   "source": [
    "#Percorrer pela lista\n",
    "for i in lista:\n",
    "    print(i)"
   ]
  },
  {
   "cell_type": "code",
   "execution_count": 4,
   "id": "06a59060-f0bc-414e-8ffd-8f45772bc6b4",
   "metadata": {},
   "outputs": [
    {
     "data": {
      "text/plain": [
       "['Manga', 'Laranja', 'Banana', 'Uva']"
      ]
     },
     "execution_count": 4,
     "metadata": {},
     "output_type": "execute_result"
    }
   ],
   "source": [
    "#Mudar valor lista\n",
    "lista[0] = 'Manga'\n",
    "lista"
   ]
  },
  {
   "cell_type": "code",
   "execution_count": 6,
   "id": "3ccfce98-73be-49f8-b9d3-a1a68f0d9ae4",
   "metadata": {},
   "outputs": [
    {
     "data": {
      "text/plain": [
       "[2, 4]"
      ]
     },
     "execution_count": 6,
     "metadata": {},
     "output_type": "execute_result"
    }
   ],
   "source": [
    "a = [1, 2, 3, 4, 5]\n",
    "a[1: 4: 2] #acrescido o passo, coleta-se pulando de 2 em 2"
   ]
  },
  {
   "cell_type": "code",
   "execution_count": 7,
   "id": "c15d3d73-27c7-428a-82ef-7b3f8ca116ba",
   "metadata": {},
   "outputs": [
    {
     "data": {
      "text/plain": [
       "[5, 4, 3, 2, 1]"
      ]
     },
     "execution_count": 7,
     "metadata": {},
     "output_type": "execute_result"
    }
   ],
   "source": [
    "a[: : -1] #passo negativo inverte a sequência"
   ]
  },
  {
   "cell_type": "code",
   "execution_count": 9,
   "id": "0da7da43-9efb-4447-95f1-e6452f1b9d3b",
   "metadata": {},
   "outputs": [
    {
     "name": "stdout",
     "output_type": "stream",
     "text": [
      "Banana\n",
      "Laranja\n",
      "Manga\n",
      "Uva\n"
     ]
    }
   ],
   "source": [
    "#Ordenar Lista\n",
    "lista.sort()\n",
    "for i in lista:\n",
    "    print(i)"
   ]
  },
  {
   "cell_type": "code",
   "execution_count": 10,
   "id": "76daa14b-d2a7-4aaf-8007-83c527d6f324",
   "metadata": {},
   "outputs": [
    {
     "name": "stdout",
     "output_type": "stream",
     "text": [
      "Uva\n",
      "Manga\n",
      "Laranja\n",
      "Banana\n"
     ]
    }
   ],
   "source": [
    "#Inverter Lista\n",
    "lista.reverse()\n",
    "for i in lista:\n",
    "    print(i)"
   ]
  },
  {
   "cell_type": "code",
   "execution_count": 18,
   "id": "66b86683-dd0b-4ff5-a0c8-edd242130313",
   "metadata": {},
   "outputs": [
    {
     "name": "stdout",
     "output_type": "stream",
     "text": [
      "Uva\n",
      "Manga\n",
      "Laranja\n",
      "Banana\n",
      "Melancia\n"
     ]
    }
   ],
   "source": [
    "#Adicionar elemento na lista\n",
    "lista.append('Melancia')\n",
    "for i in lista:\n",
    "    print(i)"
   ]
  },
  {
   "cell_type": "code",
   "execution_count": 17,
   "id": "938ec19b-d810-45a9-a404-201593a511f6",
   "metadata": {},
   "outputs": [
    {
     "name": "stdout",
     "output_type": "stream",
     "text": [
      "Uva\n",
      "Manga\n",
      "Laranja\n",
      "Banana\n"
     ]
    }
   ],
   "source": [
    "#Remover elemento na lista\n",
    "lista.remove('Melancia')\n",
    "for i in lista:\n",
    "    print(i)"
   ]
  },
  {
   "cell_type": "code",
   "execution_count": 20,
   "id": "04a76401-e032-4e59-bd34-55a03cc82398",
   "metadata": {},
   "outputs": [
    {
     "data": {
      "text/plain": [
       "['Uva', 'Manga', 'Laranja']"
      ]
     },
     "execution_count": 20,
     "metadata": {},
     "output_type": "execute_result"
    }
   ],
   "source": [
    "#Remover elemento por posição\n",
    "del lista[3]\n",
    "lista"
   ]
  },
  {
   "cell_type": "code",
   "execution_count": 21,
   "id": "69314635-8b37-40d4-bccc-3db7fee659b0",
   "metadata": {},
   "outputs": [
    {
     "name": "stdout",
     "output_type": "stream",
     "text": [
      "1 => Uva\n",
      "2 => Manga\n",
      "3 => Laranja\n"
     ]
    }
   ],
   "source": [
    "#imprimir com a posição\n",
    "#A função enumerate() retorna dois elementos a cada \n",
    "#iteração: a posição sequencial e um item da seqüência correspondente\n",
    "for i, p in enumerate(lista):\n",
    "    print(i+1,'=>',p)"
   ]
  },
  {
   "cell_type": "code",
   "execution_count": 28,
   "id": "f8c0560b-fc5c-4916-af13-0c57f657bd1f",
   "metadata": {},
   "outputs": [],
   "source": [
    "a = [1,2,3]\n",
    "b = a\n",
    "a.append(4)\n",
    "print(b)"
   ]
  },
  {
   "cell_type": "code",
   "execution_count": 33,
   "id": "ae4bc8bf-12bb-4ceb-b68a-c5ac68e1b594",
   "metadata": {},
   "outputs": [
    {
     "data": {
      "text/plain": [
       "[1, 2, 3, 4, 5]"
      ]
     },
     "execution_count": 33,
     "metadata": {},
     "output_type": "execute_result"
    }
   ],
   "source": [
    "#Converter tuplas e listas\n",
    "a = [1,2,3,4,5]\n",
    "tuple(a)#Converte em tupla\n",
    "list(tuple(a))#converte em lista\n"
   ]
  },
  {
   "cell_type": "code",
   "execution_count": 34,
   "id": "8dcd8c0b-1e88-4fe6-aa74-b32a64d40929",
   "metadata": {},
   "outputs": [
    {
     "data": {
      "text/plain": [
       "1"
      ]
     },
     "execution_count": 34,
     "metadata": {},
     "output_type": "execute_result"
    }
   ],
   "source": [
    "#Operações\n",
    "sum(a)#Soma\n",
    "len(a)#tamanho\n",
    "max(a)#maximo\n",
    "min(a)#minimo"
   ]
  },
  {
   "cell_type": "code",
   "execution_count": 35,
   "id": "8276bc54-d71e-422c-b8cd-755bf6362954",
   "metadata": {},
   "outputs": [
    {
     "data": {
      "text/plain": [
       "[1, 2, 3, 4]"
      ]
     },
     "execution_count": 35,
     "metadata": {},
     "output_type": "execute_result"
    }
   ],
   "source": [
    "#Métodos\n",
    "lista = [1,2]\n",
    "lista.extend([3,4]) #acrescenta o valor no final da lista\n",
    "lista"
   ]
  },
  {
   "cell_type": "code",
   "execution_count": 36,
   "id": "77397486-6ec1-4151-8525-cabe44ed5cf3",
   "metadata": {},
   "outputs": [
    {
     "data": {
      "text/plain": [
       "2"
      ]
     },
     "execution_count": 36,
     "metadata": {},
     "output_type": "execute_result"
    }
   ],
   "source": [
    "lista = [1,2,3,1,8,12,7]\n",
    "lista.count(1) #mostra a quantidade que o elemento aparece"
   ]
  },
  {
   "cell_type": "code",
   "execution_count": 37,
   "id": "fc9b53ca-e4b4-4c36-9d34-5a7e21ccfdf3",
   "metadata": {},
   "outputs": [
    {
     "data": {
      "text/plain": [
       "5"
      ]
     },
     "execution_count": 37,
     "metadata": {},
     "output_type": "execute_result"
    }
   ],
   "source": [
    "#Retorna o indice da primeira ocorrencia na lista\n",
    "lista.index(12)"
   ]
  },
  {
   "cell_type": "code",
   "execution_count": 38,
   "id": "56c51675-79c1-4018-a4ff-cebda53ee805",
   "metadata": {},
   "outputs": [
    {
     "data": {
      "text/plain": [
       "[1, 'dois', 2, 3, 1, 8, 12, 7]"
      ]
     },
     "execution_count": 38,
     "metadata": {},
     "output_type": "execute_result"
    }
   ],
   "source": [
    "#Insere elemento na lista\n",
    "lista.insert(1,'dois')\n",
    "lista"
   ]
  },
  {
   "cell_type": "code",
   "execution_count": 39,
   "id": "aa21a534-18ce-411b-a16f-372facedf9d7",
   "metadata": {},
   "outputs": [
    {
     "data": {
      "text/plain": [
       "[1, 'dois', 2, 3, 1, 8, 12, 7]"
      ]
     },
     "execution_count": 39,
     "metadata": {},
     "output_type": "execute_result"
    }
   ],
   "source": [
    "#Atribuiçoes por fatias, igual ao .insert\n",
    "lista = [1,2,3,1,8,12,7]\n",
    "lista[1:1] = ['dois']\n",
    "lista\n",
    "\n",
    "#ou pode fazer assim tbm\n",
    "lista[1:3] = [9,10,11]\n",
    "lista"
   ]
  },
  {
   "cell_type": "code",
   "execution_count": 46,
   "id": "57ae2a7f-b7dd-4043-b085-688c73b7070f",
   "metadata": {},
   "outputs": [
    {
     "data": {
      "text/plain": [
       "[1, 8, 12, 7]"
      ]
     },
     "execution_count": 46,
     "metadata": {},
     "output_type": "execute_result"
    }
   ],
   "source": [
    "#Remove o elemento na posição e o retorna\n",
    "lista.pop(1)\n",
    "lista"
   ]
  },
  {
   "cell_type": "code",
   "execution_count": 48,
   "id": "9330a768-808e-46f4-bab8-f5faa6eb20aa",
   "metadata": {},
   "outputs": [
    {
     "data": {
      "text/plain": [
       "['19', '16', '23']"
      ]
     },
     "execution_count": 48,
     "metadata": {},
     "output_type": "execute_result"
    }
   ],
   "source": [
    "#Sepaa a string em uma lista de strings menor\n",
    "'19:16:23'.split(':')\n",
    "hr, minu, seg = '19:16:23'.split(':')\n",
    "print(hr, minu, seg)"
   ]
  },
  {
   "cell_type": "code",
   "execution_count": 62,
   "id": "53ab60ee-dd1d-4e09-889f-d5ad1cc4908a",
   "metadata": {},
   "outputs": [],
   "source": [
    "#compreensão de lista usa-se de palavrachaves:\n",
    "s = [ x**2 for x in range(10) ]\n",
    "s1 = [ x+2 for x in range(10) ]\n",
    "m = [len(x) for x in 'palavras']"
   ]
  },
  {
   "cell_type": "code",
   "execution_count": 65,
   "id": "75614445-c842-43ca-a6d5-64225321ea5a",
   "metadata": {},
   "outputs": [
    {
     "data": {
      "text/plain": [
       "[0, 0, 0, 0, 1, 1, 1]"
      ]
     },
     "execution_count": 65,
     "metadata": {},
     "output_type": "execute_result"
    }
   ],
   "source": [
    "# '+' concatenação\n",
    "# '*' repetição\n",
    "lista = [0]*4\n",
    "lista = lista + [1]*3\n",
    "lista"
   ]
  },
  {
   "cell_type": "code",
   "execution_count": 69,
   "id": "22fd0d5a-af1c-43b1-9adf-b0efab0617c5",
   "metadata": {},
   "outputs": [],
   "source": [
    "# Inicializando listas\n",
    "vetor = [0]*10\n",
    "vetor[2]= 5\n",
    "vetor"
   ]
  },
  {
   "cell_type": "code",
   "execution_count": 70,
   "id": "b5d008fc-2d85-4a10-a446-3ccf051f4169",
   "metadata": {},
   "outputs": [
    {
     "data": {
      "text/plain": [
       "[None, None, None, None, None]"
      ]
     },
     "execution_count": 70,
     "metadata": {},
     "output_type": "execute_result"
    }
   ],
   "source": [
    "#Usando o none (Não atribui nenhum valor)\n",
    "lista = [None]*5\n",
    "lista"
   ]
  },
  {
   "cell_type": "code",
   "execution_count": 74,
   "id": "4b86feae-8a00-4bf5-9d9d-ec2a4eb4121d",
   "metadata": {},
   "outputs": [
    {
     "data": {
      "text/plain": [
       "['a', 'l', 'o']"
      ]
     },
     "execution_count": 74,
     "metadata": {},
     "output_type": "execute_result"
    }
   ],
   "source": [
    "# Converter uma string numa lista\n",
    "lista = list('alo')\n",
    "lista"
   ]
  },
  {
   "cell_type": "code",
   "execution_count": 72,
   "id": "5b9e4fc3-0cc8-474d-954d-25ab9af9b962",
   "metadata": {},
   "outputs": [],
   "source": [
    "#Converter uma lista numa string\n"
   ]
  },
  {
   "cell_type": "code",
   "execution_count": 75,
   "id": "6ef2b3a9-4834-4012-9d9f-fa83182033dc",
   "metadata": {},
   "outputs": [
    {
     "data": {
      "text/plain": [
       "'alllo'"
      ]
     },
     "execution_count": 75,
     "metadata": {},
     "output_type": "execute_result"
    }
   ],
   "source": [
    "lista[1] = 'lll'\n",
    "''.join(lista)"
   ]
  },
  {
   "cell_type": "code",
   "execution_count": 82,
   "id": "4e8cea6a-9020-433c-b33f-52e30be75541",
   "metadata": {},
   "outputs": [],
   "source": [
    "#sort(cmp=None, key=None, reverse = False ou True)\n",
    "#Ordena a lista em crescente\n",
    "lista = [5,1,8,4,6,9,3,7]\n",
    "lista.sort()\n",
    "lista\n",
    "\n"
   ]
  },
  {
   "cell_type": "code",
   "execution_count": 91,
   "id": "a435fd1e-2978-4ab3-9891-474b78776444",
   "metadata": {
    "tags": []
   },
   "outputs": [
    {
     "data": {
      "text/plain": [
       "-2"
      ]
     },
     "execution_count": 91,
     "metadata": {},
     "output_type": "execute_result"
    }
   ],
   "source": [
    "#O argumento cmp é uma função que o sort chama para definir se um elemento\n",
    "#é anterior ou posteriror a outro\n",
    "def compara(elem1, elem2):\n",
    "    return elem1%10 - elem2%10\n",
    "compara(100, 22)\n"
   ]
  },
  {
   "cell_type": "code",
   "execution_count": null,
   "id": "72023163-85d3-4e60-9281-622208a55ba0",
   "metadata": {},
   "outputs": [],
   "source": [
    "lista = [100, 22, 303, 104]\n",
    "lista.sort(compara)\n",
    "lista"
   ]
  },
  {
   "cell_type": "code",
   "execution_count": 93,
   "id": "b8d3ca5b-2635-4106-946e-a3247193347a",
   "metadata": {},
   "outputs": [
    {
     "data": {
      "text/plain": [
       "['de', 'abc', 'fghi']"
      ]
     },
     "execution_count": 93,
     "metadata": {},
     "output_type": "execute_result"
    }
   ],
   "source": [
    "#O argumento key especifica uma função aplicada a cada elemento(Quantidade)\n",
    "lista = ['abc', 'de', 'fghi']\n",
    "lista.sort(key=len)\n",
    "lista"
   ]
  },
  {
   "cell_type": "code",
   "execution_count": 97,
   "id": "33e41acd-391d-4feb-bb93-68cd1002498e",
   "metadata": {},
   "outputs": [],
   "source": [
    "#Matrizes\n",
    "#criar uma matriz identidade de 3x3 com o código\n",
    "m = []\n",
    "for i in range(4):\n",
    "    m.append([0]*4)\n",
    "    m[i][i]=1\n",
    "m"
   ]
  },
  {
   "cell_type": "code",
   "execution_count": 138,
   "id": "8e90597d-c819-422d-a642-e034b602502e",
   "metadata": {},
   "outputs": [],
   "source": [
    "#Exercicio\n",
    "lista = [x for x in range(16)]"
   ]
  },
  {
   "cell_type": "code",
   "execution_count": 105,
   "id": "9c087d64-57ff-4e00-809a-0e030518907f",
   "metadata": {},
   "outputs": [
    {
     "data": {
      "text/plain": [
       "[8, 9, 10, 11, 12, 13]"
      ]
     },
     "execution_count": 105,
     "metadata": {},
     "output_type": "execute_result"
    }
   ],
   "source": [
    "#intervalo de 1 a 9\n",
    "lista[1:10]\n",
    "#intervalo de 8 a 13\n",
    "lista[8:14]"
   ]
  },
  {
   "cell_type": "code",
   "execution_count": 123,
   "id": "b739e932-768e-4a36-b885-d3700afc1f2b",
   "metadata": {},
   "outputs": [
    {
     "data": {
      "text/plain": [
       "[0, 1, 2, 3, 4, 5, 6, 7, 8, 9, 10, 11, 12, 13, 14]"
      ]
     },
     "execution_count": 123,
     "metadata": {},
     "output_type": "execute_result"
    }
   ],
   "source": [
    "lista"
   ]
  },
  {
   "cell_type": "code",
   "execution_count": 122,
   "id": "c0798e69-da18-493b-9094-3fc7a2ee66b2",
   "metadata": {},
   "outputs": [
    {
     "data": {
      "text/plain": [
       "[2, 4]"
      ]
     },
     "execution_count": 122,
     "metadata": {},
     "output_type": "execute_result"
    }
   ],
   "source": [
    "#lista[: 2,2]\n",
    "a[1: 4: 2]"
   ]
  },
  {
   "cell_type": "code",
   "execution_count": 149,
   "id": "ba82376f-408a-4da2-bd8d-e6c162663114",
   "metadata": {},
   "outputs": [
    {
     "name": "stdout",
     "output_type": "stream",
     "text": [
      "[0, 2, 4, 6, 8, 10, 12, 14]\n"
     ]
    }
   ],
   "source": [
    "#numeros pares\n",
    "lista2 = []\n",
    "for valor in lista:\n",
    "    if valor % 2 == 0:\n",
    "        lista2.append(valor)\n",
    "print(lista2)"
   ]
  },
  {
   "cell_type": "code",
   "execution_count": 148,
   "id": "309efc98-97d0-454f-9c1f-5873b3af9a77",
   "metadata": {},
   "outputs": [
    {
     "name": "stdout",
     "output_type": "stream",
     "text": [
      "[1, 3, 5, 7, 9, 11, 13, 15]\n"
     ]
    }
   ],
   "source": [
    "#numeros impares\n",
    "lista3 = []\n",
    "for valor in lista:\n",
    "    if valor % 2 == 1:\n",
    "        lista3.append(valor)\n",
    "print(lista3)"
   ]
  },
  {
   "cell_type": "code",
   "execution_count": 147,
   "id": "527dc299-3802-4594-ac77-89e02f183aae",
   "metadata": {},
   "outputs": [
    {
     "name": "stdout",
     "output_type": "stream",
     "text": [
      "[0, 12]\n"
     ]
    }
   ],
   "source": [
    "#Multiplos de 2,3,4\n",
    "lista4 = []\n",
    "for valor in lista:\n",
    "    if valor % 2 == 0 and  valor % 3 == 0 and  valor % 4 == 0 :\n",
    "        lista4.append(valor)\n",
    "print(lista4)"
   ]
  },
  {
   "cell_type": "code",
   "execution_count": 143,
   "id": "2faacc0b-d464-43f1-9111-6a559a154769",
   "metadata": {},
   "outputs": [],
   "source": [
    "#lista reveresa\n",
    "lista.reverse()\n"
   ]
  },
  {
   "cell_type": "code",
   "execution_count": 155,
   "id": "6f950d37-64b0-4abd-9a54-a2a42fd40650",
   "metadata": {},
   "outputs": [
    {
     "data": {
      "text/plain": [
       "33.0"
      ]
     },
     "execution_count": 155,
     "metadata": {},
     "output_type": "execute_result"
    }
   ],
   "source": [
    "#razão entre a soma do intervalo de 10 a 15 pelo intervalo de 3 a 9\n",
    "a = sum(lista[10:16])\n",
    "b = sum(lista[3:10])\n",
    "float(a%b)"
   ]
  },
  {
   "cell_type": "code",
   "execution_count": 157,
   "id": "455d45db-829c-40b5-8351-b852c3e6f8e5",
   "metadata": {},
   "outputs": [
    {
     "name": "stdout",
     "output_type": "stream",
     "text": [
      "0 => 1\n",
      "1 => 2\n",
      "2 => 3\n",
      "3 => 4\n",
      "4 => 5\n"
     ]
    }
   ],
   "source": [
    "#Ler uma lista de 5 números inteiros e mostre cada número juntamente com a sua posição na lista.\n",
    "lista = [1,2,3,4,5]\n",
    "for i, p in enumerate(lista):\n",
    "    print(i,'=>',p)"
   ]
  },
  {
   "cell_type": "code",
   "execution_count": null,
   "id": "3ff7c776-f05d-492c-952b-f8428af640b3",
   "metadata": {},
   "outputs": [],
   "source": []
  }
 ],
 "metadata": {
  "kernelspec": {
   "display_name": "Python 3",
   "language": "python",
   "name": "python3"
  },
  "language_info": {
   "codemirror_mode": {
    "name": "ipython",
    "version": 3
   },
   "file_extension": ".py",
   "mimetype": "text/x-python",
   "name": "python",
   "nbconvert_exporter": "python",
   "pygments_lexer": "ipython3",
   "version": "3.8.8"
  }
 },
 "nbformat": 4,
 "nbformat_minor": 5
}
